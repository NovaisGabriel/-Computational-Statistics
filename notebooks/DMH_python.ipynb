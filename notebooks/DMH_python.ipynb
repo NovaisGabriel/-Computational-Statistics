{
 "cells": [
  {
   "cell_type": "markdown",
   "metadata": {},
   "source": [
    "<h1 align=\"center\">Estatística Computacional</h1>\n",
    "<h3 align=\"center\">Gabriel Lima Novais</h3>\n",
    "<p> O trabalho final será a implementação do algoritmo conhecido como <b>Double Metropolis-Hastings</b> (DMH) para redes, mais especificamente, para <b>Exponential Random Graphs Models</b> (ERGM). A replicação será do artigo \"Bayesian Analysis for Exponential Random Graph Models Using the Double Metropolis-Hastings Sampler\", cujos autores são Ick Hoon Jin e Faming Liang. O link do artigo encontra-se destacado abaixo.</p>\n",
    "\n",
    "\n",
    "<p><a href=\"https://amstat.tandfonline.com/doi/full/10.1080/01621459.2018.1448824\">Artigo de Apoio</a></p>\n",
    "<p><a href=\"https://www.researchgate.net/publication/265920670_Bayesian_Analysis_for_Exponential_Random_Graph_Models_Using_the_Double_Metropolis-Hastings_Sampler\">Artigo de Replicação</a></p>"
   ]
  },
  {
   "cell_type": "markdown",
   "metadata": {},
   "source": [
    "<p>Link do repositório no github:</p>\n",
    "<ul>\n",
    "    <li><a href=\"https://github.com/NovaisGabriel/-Computational-Statistics\">Repositório do Aluno</a></li>\n",
    "   </ul>\n",
    "\n",
    "\n",
    "<p>Links interessantes sobre o assunto:</p>\n",
    "<ul>\n",
    "    <li><a href=\"https://www.ncbi.nlm.nih.gov/pmc/articles/PMC3956133/\">Artigo 1</a></li>\n",
    "    <li><a href=\"https://www.researchgate.net/publication/236264661_A_Monte_Carlo_Metropolis-Hastings_Algorithm_for_Sampling_from_Distributions_with_Intractable_Normalizing_Constants/link/02e7e536166f37096b000000/download\">Artigo 2</a></li>\n",
    "    <li><a href=\"https://arxiv.org/pdf/1904.08063.pdf\">Artigo 3</a></li>\n",
    "</ul>"
   ]
  },
  {
   "cell_type": "markdown",
   "metadata": {},
   "source": [
    "### Importando Pacotes:"
   ]
  },
  {
   "cell_type": "code",
   "execution_count": 1,
   "metadata": {},
   "outputs": [],
   "source": [
    "import numpy as np\n",
    "import pandas as pd\n",
    "import matplotlib.pyplot as plt\n",
    "import seaborn as sns\n",
    "import scipy.stats as st\n",
    "import networkx as nx\n",
    "\n",
    "from itertools import chain \n",
    "from IPython.display import clear_output\n",
    "from progressbar import ProgressBar\n",
    "from tqdm import tqdm"
   ]
  },
  {
   "cell_type": "markdown",
   "metadata": {},
   "source": [
    "### Função $D_i(x)$"
   ]
  },
  {
   "cell_type": "code",
   "execution_count": 2,
   "metadata": {},
   "outputs": [],
   "source": [
    "def D(net_inc):\n",
    "    number = []\n",
    "    d=[]\n",
    "    for i in range(len(net_inc)):\n",
    "        number.append(np.sum(net_inc[i]))\n",
    "    my_dict = {i:number.count(i) for i in number}\n",
    "    for x in range(len(net_inc)):\n",
    "        try:\n",
    "            d.append(my_dict[x])\n",
    "        except:\n",
    "            d.append(0)\n",
    "    return d"
   ]
  },
  {
   "cell_type": "markdown",
   "metadata": {},
   "source": [
    "### Função $EP_i(x)$"
   ]
  },
  {
   "cell_type": "code",
   "execution_count": 3,
   "metadata": {},
   "outputs": [],
   "source": [
    "def EP(net_inc):\n",
    "    pares=[]\n",
    "    M=[]\n",
    "    ep=[]\n",
    "    resultado = 0\n",
    "    for la in range(len(net_inc)):\n",
    "        for lnex in range(la+1,len(net_inc)):\n",
    "            if net_inc[la][lnex]>0:\n",
    "                pares.append(net_inc[la]+net_inc[lnex])\n",
    "    for h in range(len(pares)):\n",
    "        M.append(list(pares[h]).count(2))\n",
    "    my_dict = {i:M.count(i) for i in M}\n",
    "    for x in range(len(M)):\n",
    "        try:\n",
    "            ep.append(my_dict[x])\n",
    "        except:\n",
    "            ep.append(0)\n",
    "    \n",
    "    return ep"
   ]
  },
  {
   "cell_type": "markdown",
   "metadata": {},
   "source": [
    "### Funções de Estatísticas Suficientes:"
   ]
  },
  {
   "cell_type": "markdown",
   "metadata": {},
   "source": [
    "<img src=\"S1.png\">"
   ]
  },
  {
   "cell_type": "code",
   "execution_count": 4,
   "metadata": {},
   "outputs": [],
   "source": [
    "#Number of Edges (NE) Statistic -> e(x):\n",
    "def NE(net_inc):\n",
    "    result = 0.5*(np.dot(list(range(len(net_inc))),D(net_inc)))\n",
    "    return result"
   ]
  },
  {
   "cell_type": "markdown",
   "metadata": {},
   "source": [
    "<img src=\"S2.png\">"
   ]
  },
  {
   "cell_type": "code",
   "execution_count": 5,
   "metadata": {},
   "outputs": [],
   "source": [
    "#Geometrically Weighted Degree (GWD) Statistic -> u(x|tau)\n",
    "def GWD(net_inc,tau):\n",
    "    result = 0\n",
    "    for i in range(1,len(net_inc)-1):\n",
    "        termo = 1-(1-np.exp(-tau))**i\n",
    "        result = result + termo*D(net_inc)[i]\n",
    "    result = np.exp(tau)*result\n",
    "    return result"
   ]
  },
  {
   "cell_type": "markdown",
   "metadata": {},
   "source": [
    "<img src=\"S3.png\">"
   ]
  },
  {
   "cell_type": "code",
   "execution_count": 6,
   "metadata": {},
   "outputs": [],
   "source": [
    "#Geometrically Weighted Edgewise Shared Partnership (GWESP) Statistic -> v(x|tau): \n",
    "def GWESP(net_inc,tau):\n",
    "    result = 0\n",
    "    for i in range(0,len(net_inc)-2):\n",
    "        termo = 1-(1-np.exp(-tau))**i\n",
    "        ep = EP(net_inc)\n",
    "        if i>=len(ep):\n",
    "            result = result+0\n",
    "        else:\n",
    "            result = result + termo*ep[i]\n",
    "    result = np.exp(tau)*result\n",
    "    return result"
   ]
  },
  {
   "cell_type": "markdown",
   "metadata": {},
   "source": [
    "### Funções de Modelo"
   ]
  },
  {
   "cell_type": "markdown",
   "metadata": {},
   "source": [
    "<img src=\"Models.png\">"
   ]
  },
  {
   "cell_type": "code",
   "execution_count": 7,
   "metadata": {},
   "outputs": [],
   "source": [
    "#Model 1:\n",
    "def PHI_model1(x,theta,tau):\n",
    "    return np.exp(np.dot(theta,[NE(x),GWD(x,tau)]))"
   ]
  },
  {
   "cell_type": "code",
   "execution_count": 8,
   "metadata": {},
   "outputs": [],
   "source": [
    "#Model 2:\n",
    "def PHI_model2(x,theta,tau):\n",
    "    return np.exp(np.dot(theta,[NE(x),GWESP(x,tau)]))"
   ]
  },
  {
   "cell_type": "code",
   "execution_count": 9,
   "metadata": {},
   "outputs": [],
   "source": [
    "#Model 3:\n",
    "def PHI_model3(x,theta,tau):\n",
    "    return np.exp(np.dot(theta,[NE(x),GWD(x,tau),GWESP(x,tau)]))"
   ]
  },
  {
   "cell_type": "markdown",
   "metadata": {},
   "source": [
    "### Double Metropolis Hastings"
   ]
  },
  {
   "cell_type": "markdown",
   "metadata": {},
   "source": [
    "<img src=\"exp.png\">"
   ]
  },
  {
   "cell_type": "markdown",
   "metadata": {},
   "source": [
    "<img src=\"change.png\">"
   ]
  },
  {
   "cell_type": "code",
   "execution_count": 15,
   "metadata": {},
   "outputs": [],
   "source": [
    "def DMH(x,dim,n_iter,ss,tau,var_init):\n",
    "    \n",
    "    #Initialize:\n",
    "    thetas = []\n",
    "    tzero = np.random.multivariate_normal(np.zeros(dim),var_init*np.identity(dim),1) \n",
    "    thetas.append(tzero)\n",
    "    \n",
    "    #Primeiro Theta a ser testado:\n",
    "    tnow = thetas[0]\n",
    "    \n",
    "    #Double Metropolis-Hastings\n",
    "    for t in tqdm(range(0,n_iter)):\n",
    "        \n",
    "        #Gerando Thetas novos:\n",
    "        tline = np.random.multivariate_normal(tnow[0],(ss**2)*np.identity(dim),1) \n",
    "\n",
    "        #Aplicando m MH:\n",
    "        y = x.copy()\n",
    "        for i in range(len(x)):\n",
    "            for j in range(len(x)):\n",
    "                if i<j :\n",
    "                    z = y.copy()\n",
    "                    w = y.copy()\n",
    "                    z[i,j]=1\n",
    "                    w[i,j]=0\n",
    "                    z[j,i]=1\n",
    "                    w[j,i]=0\n",
    "                    num = PHI_model2(z,tline,tau)\n",
    "                    den = PHI_model2(w,tline,tau)+PHI_model2(z,tline,tau)\n",
    "                    prob = num/den\n",
    "\n",
    "                    if np.random.uniform(0,1)<prob:\n",
    "                        y[i,j]=1\n",
    "                        y[j,i]=1\n",
    "                    else:\n",
    "                        y[i,j]=0\n",
    "                        y[j,i]=0\n",
    "\n",
    "\n",
    "                \n",
    "        #Segundo MH:\n",
    "        low = np.log(PHI_model2(x,tnow,tau))+np.log(PHI_model2(y,tline,tau))\n",
    "        high = np.log(PHI_model2(y,tnow,tau))+np.log(PHI_model2(x,tline,tau))\n",
    "        r = np.exp(high-low)\n",
    "        alpha = np.min([1,r])\n",
    "\n",
    "        alpha = 0.5\n",
    "        #Acceptance:\n",
    "        if np.random.uniform(0,1)<alpha:\n",
    "            thetas.append(tline)\n",
    "            tnow = tline\n",
    "    \n",
    "    #Results:\n",
    "    return thetas        "
   ]
  },
  {
   "cell_type": "markdown",
   "metadata": {},
   "source": [
    "### Examplo para o caso 10:"
   ]
  },
  {
   "cell_type": "code",
   "execution_count": 19,
   "metadata": {},
   "outputs": [],
   "source": [
    "# Valores que devem dar dessa ERGM: Theta1 = -1.66 e Theta2 = 0.15\n",
    "teste = np.array([[0., 1., 1., 1., 1., 0., 0., 1., 0., 0.],\n",
    "                  [1., 0., 0., 0., 1., 1., 0., 0., 1., 1.],\n",
    "                  [1., 0., 0., 1., 1., 0., 0., 1., 1., 1.],\n",
    "                  [1., 0., 1., 0., 0., 0., 0., 0., 1., 1.],\n",
    "                  [1., 1., 1., 0., 0., 0., 0., 0., 0., 1.],\n",
    "                  [0., 1., 0., 0., 0., 0., 0., 0., 0., 1.],\n",
    "                  [0., 0., 0., 0., 0., 0., 0., 1., 1., 0.],\n",
    "                  [1., 0., 1., 0., 0., 0., 1., 0., 1., 1.],\n",
    "                  [0., 1., 1., 1., 0., 0., 1., 1., 0., 0.],\n",
    "                  [0., 1., 1., 1., 1., 1., 0., 1., 0., 0.]])"
   ]
  },
  {
   "cell_type": "code",
   "execution_count": 17,
   "metadata": {},
   "outputs": [],
   "source": [
    "x = teste\n",
    "dim=2\n",
    "n_iter=1000\n",
    "ss=0.2\n",
    "tau=0.25\n",
    "var_init = 200"
   ]
  },
  {
   "cell_type": "code",
   "execution_count": 18,
   "metadata": {},
   "outputs": [
    {
     "name": "stderr",
     "output_type": "stream",
     "text": [
      "100%|██████████| 1000/1000 [03:19<00:00,  5.52it/s]\n"
     ]
    },
    {
     "name": "stdout",
     "output_type": "stream",
     "text": [
      "Certo -> [-1.66000000  0.15000000]\n",
      "E deu -> [ 15.63872138 -15.54168446]\n"
     ]
    },
    {
     "data": {
      "image/png": "[encoded data removed]",
      "text/plain": [
       "<Figure size 1080x360 with 2 Axes>"
      ]
     },
     "metadata": {
      "needs_background": "light"
     },
     "output_type": "display_data"
    }
   ],
   "source": [
    "thetas = DMH(x,dim,n_iter,ss,tau,var_init)\n",
    "BayesEstimator = np.mean(thetas[:],axis=0)[0]\n",
    "print(\"Certo -> [-1.66000000  0.15000000]\")\n",
    "print(\"E deu ->\",BayesEstimator)\n",
    "theta1 = [x[0][0] for x in thetas]\n",
    "theta2 = [x[0][1] for x in thetas]\n",
    "\n",
    "fig, (ax1, ax2) = plt.subplots(1, 2,figsize=(15,5))\n",
    "ax1.plot(range(len(theta1)),theta1)\n",
    "ax1.plot(range(len(theta1)),theta2)\n",
    "sns.distplot(theta1)\n",
    "sns.distplot(theta2)\n",
    "ax1.set_title('Thetas nas iterações')\n",
    "ax2.set_title('Distribuição dos Thetas')\n",
    "\n",
    "plt.show()"
   ]
  },
  {
   "cell_type": "markdown",
   "metadata": {},
   "source": [
    "### Exemplo para o caso 50:\n",
    "Infelizmente não está rodando... :("
   ]
  },
  {
   "cell_type": "code",
   "execution_count": null,
   "metadata": {
    "scrolled": true
   },
   "outputs": [],
   "source": [
    "# #-3.194226  0.389997 \n",
    "# teste2 = pd.read_csv(\"graph.csv\")\n",
    "# teste2 = teste2.iloc[:,1:]\n",
    "# teste2 = np.array(teste2)\n",
    "# teste2"
   ]
  },
  {
   "cell_type": "code",
   "execution_count": null,
   "metadata": {},
   "outputs": [],
   "source": [
    "# x = teste2\n",
    "# dim=2\n",
    "# n_iter=10\n",
    "# ss=0.2\n",
    "# tau=0.25\n",
    "# var_init = 100"
   ]
  },
  {
   "cell_type": "code",
   "execution_count": null,
   "metadata": {},
   "outputs": [],
   "source": [
    "# thetas = DMH(x,dim,n_iter,ss,tau,var_init)"
   ]
  },
  {
   "cell_type": "code",
   "execution_count": null,
   "metadata": {},
   "outputs": [],
   "source": [
    "# BayesEstimator = np.mean(thetas[:],axis=0)[0]\n",
    "# print(\"Certo -> [-3.194226  0.389997 ]\")\n",
    "# print(\"E deu ->\",BayesEstimator)"
   ]
  },
  {
   "cell_type": "code",
   "execution_count": null,
   "metadata": {},
   "outputs": [],
   "source": [
    "# t = np.zeros((len(thetas),len(thetas)))\n",
    "# for i,m in enumerate(thetas):\n",
    "#     t[i][0] = m[0][0]\n",
    "#     t[i][1] = m[0][1]\n",
    "# plt.plot(t)\n",
    "# plt.show()"
   ]
  },
  {
   "cell_type": "code",
   "execution_count": null,
   "metadata": {},
   "outputs": [],
   "source": [
    "# theta1 = [x[0][0] for x in thetas]\n",
    "# theta2 = [x[0][1] for x in thetas]\n",
    "# sns.distplot(theta1)\n",
    "# sns.distplot(theta2)"
   ]
  }
 ],
 "metadata": {
  "kernelspec": {
   "display_name": "Python 3",
   "language": "python",
   "name": "python3"
  },
  "language_info": {
   "codemirror_mode": {
    "name": "ipython",
    "version": 3
   },
   "file_extension": ".py",
   "mimetype": "text/x-python",
   "name": "python",
   "nbconvert_exporter": "python",
   "pygments_lexer": "ipython3",
   "version": "3.7.3"
  }
 },
 "nbformat": 4,
 "nbformat_minor": 2
}
