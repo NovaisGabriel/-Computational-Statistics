{
 "cells": [
  {
   "cell_type": "code",
   "execution_count": 159,
   "metadata": {},
   "outputs": [],
   "source": []
  },
  {
   "cell_type": "code",
   "execution_count": 265,
   "metadata": {},
   "outputs": [],
   "source": [
    "using StatsBase\n",
    "using StatsKit"
   ]
  },
  {
   "cell_type": "code",
   "execution_count": 326,
   "metadata": {
    "scrolled": true
   },
   "outputs": [
    {
     "data": {
      "text/plain": [
       "4×4 Array{Int64,2}:\n",
       " 0  1  1  1\n",
       " 1  0  1  0\n",
       " 1  1  0  1\n",
       " 1  0  1  0"
      ]
     },
     "execution_count": 326,
     "metadata": {},
     "output_type": "execute_result"
    }
   ],
   "source": [
    "teste1=[0 1 1 1 ;1 0 1 0 ;1 1 0 1 ;1 0 1 0]"
   ]
  },
  {
   "cell_type": "code",
   "execution_count": 328,
   "metadata": {},
   "outputs": [
    {
     "data": {
      "text/plain": [
       "D (generic function with 1 method)"
      ]
     },
     "execution_count": 328,
     "metadata": {},
     "output_type": "execute_result"
    }
   ],
   "source": [
    "function D(net)\n",
    "    ans = zeros(length(net[:,1]))\n",
    "    aux = countmap(sum(net,dims=2)[:])\n",
    "    for i = 1:length(net[:,1])\n",
    "        try\n",
    "            ans[i] = aux[i-1]\n",
    "            catch\n",
    "            ans[i] = 0\n",
    "        end   \n",
    "    end\n",
    "    return ans\n",
    "end"
   ]
  },
  {
   "cell_type": "code",
   "execution_count": 349,
   "metadata": {},
   "outputs": [
    {
     "data": {
      "text/plain": [
       "EP (generic function with 1 method)"
      ]
     },
     "execution_count": 349,
     "metadata": {},
     "output_type": "execute_result"
    }
   ],
   "source": [
    "function EP(net)\n",
    "    pairs = zeros(length(net[:,1]))\n",
    "    l = length(net[:,1])\n",
    "    for node1=1:l\n",
    "        for node2=node1+1:l\n",
    "            println(node2)\n",
    "            if net[node1,node2]>0\n",
    "                v = sum((net[node1,:].+net[node2,:]).==2)\n",
    "                pairs[v+1]+=1\n",
    "            end\n",
    "        end\n",
    "    end\n",
    "    \n",
    "    return pairs\n",
    "end"
   ]
  },
  {
   "cell_type": "code",
   "execution_count": 350,
   "metadata": {},
   "outputs": [
    {
     "name": "stdout",
     "output_type": "stream",
     "text": [
      "2\n",
      "3\n",
      "4\n",
      "3\n",
      "4\n",
      "4\n"
     ]
    },
    {
     "data": {
      "text/plain": [
       "4-element Array{Float64,1}:\n",
       " 0.0\n",
       " 4.0\n",
       " 1.0\n",
       " 0.0"
      ]
     },
     "execution_count": 350,
     "metadata": {},
     "output_type": "execute_result"
    }
   ],
   "source": [
    "EP(teste1)"
   ]
  },
  {
   "cell_type": "code",
   "execution_count": 330,
   "metadata": {
    "scrolled": true
   },
   "outputs": [
    {
     "data": {
      "text/plain": [
       "NE (generic function with 1 method)"
      ]
     },
     "execution_count": 330,
     "metadata": {},
     "output_type": "execute_result"
    }
   ],
   "source": [
    "function NE(net)\n",
    "    return 0.5*((0:length(net[:,1]-1))'*D(net))\n",
    "end"
   ]
  },
  {
   "cell_type": "code",
   "execution_count": 331,
   "metadata": {},
   "outputs": [
    {
     "data": {
      "text/plain": [
       "GWD (generic function with 1 method)"
      ]
     },
     "execution_count": 331,
     "metadata": {},
     "output_type": "execute_result"
    }
   ],
   "source": [
    "function GWD(net,tau)\n",
    "    gwdaux(i,tau,di) = (1-(1-exp(-tau))^i)*di\n",
    "    di = D(net)[2:end-1]\n",
    "    i=1:length(net[:,1])-2\n",
    "    return exp(tau)*sum(gwdaux.(i,tau,di))\n",
    "end"
   ]
  },
  {
   "cell_type": "code",
   "execution_count": 356,
   "metadata": {},
   "outputs": [
    {
     "data": {
      "text/plain": [
       "GWESP (generic function with 1 method)"
      ]
     },
     "execution_count": 356,
     "metadata": {},
     "output_type": "execute_result"
    }
   ],
   "source": [
    "function GWESP(net,tau)\n",
    "    gwdaux(i,tau,di) = (1-(1-exp(-tau))^i)*di\n",
    "    di = EP(net)[2:end-2]\n",
    "    i=1:length(di)\n",
    "    return exp(tau)*sum(gwdaux.(i,tau,di))\n",
    "end"
   ]
  },
  {
   "cell_type": "code",
   "execution_count": 357,
   "metadata": {},
   "outputs": [
    {
     "data": {
      "text/plain": [
       "model1 (generic function with 1 method)"
      ]
     },
     "execution_count": 357,
     "metadata": {},
     "output_type": "execute_result"
    }
   ],
   "source": [
    "function model1(x,theta,tau)\n",
    "    return exp(theta*[NE(x),GWD(x,tau)])\n",
    "end"
   ]
  },
  {
   "cell_type": "code",
   "execution_count": 334,
   "metadata": {},
   "outputs": [
    {
     "data": {
      "text/plain": [
       "model2 (generic function with 1 method)"
      ]
     },
     "execution_count": 334,
     "metadata": {},
     "output_type": "execute_result"
    }
   ],
   "source": [
    "function model2(x,theta,tau)\n",
    "    return exp(theta*[NE(x),GWESP(x,tau)])\n",
    "end"
   ]
  },
  {
   "cell_type": "code",
   "execution_count": 335,
   "metadata": {},
   "outputs": [
    {
     "data": {
      "text/plain": [
       "model3 (generic function with 1 method)"
      ]
     },
     "execution_count": 335,
     "metadata": {},
     "output_type": "execute_result"
    }
   ],
   "source": [
    "function model3(x,theta,tau)\n",
    "    return exp(theta*[NE(x),GWD(x,tau),GWESP(x,tau)])\n",
    "end"
   ]
  },
  {
   "cell_type": "markdown",
   "metadata": {},
   "source": [
    "## Daqui pra baixo é coisa em construção"
   ]
  },
  {
   "cell_type": "code",
   "execution_count": 295,
   "metadata": {},
   "outputs": [
    {
     "data": {
      "text/plain": [
       "DMH (generic function with 1 method)"
      ]
     },
     "execution_count": 295,
     "metadata": {},
     "output_type": "execute_result"
    }
   ],
   "source": [
    "function DMH(x,dim,n_iter,ss,tau,var_init)\n",
    "    thetas = zeros(n_iter)\n",
    "    theta_zero = rand(MvNormal(zeros(dim), Matrix{Float64}(I,dim,dim)))\n",
    "    print(theta_zero)\n",
    "    thetas[1] = theta_zero\n",
    "    return thetas\n",
    "end"
   ]
  },
  {
   "cell_type": "code",
   "execution_count": 296,
   "metadata": {},
   "outputs": [
    {
     "name": "stdout",
     "output_type": "stream",
     "text": [
      "[-0.22559905786153214, 0.3432194198967797]"
     ]
    },
    {
     "ename": "MethodError",
     "evalue": "MethodError: Cannot `convert` an object of type Array{Float64,1} to an object of type Float64\nClosest candidates are:\n  convert(::Type{T<:AbstractFloat}, !Matched::Ratios.SimpleRatio{S}) where {T<:AbstractFloat, S} at /home/novais/.julia/packages/Ratios/iJ67w/src/Ratios.jl:16\n  convert(::Type{T<:Number}, !Matched::T<:Number) where T<:Number at number.jl:6\n  convert(::Type{T<:Number}, !Matched::Number) where T<:Number at number.jl:7\n  ...",
     "output_type": "error",
     "traceback": [
      "MethodError: Cannot `convert` an object of type Array{Float64,1} to an object of type Float64\nClosest candidates are:\n  convert(::Type{T<:AbstractFloat}, !Matched::Ratios.SimpleRatio{S}) where {T<:AbstractFloat, S} at /home/novais/.julia/packages/Ratios/iJ67w/src/Ratios.jl:16\n  convert(::Type{T<:Number}, !Matched::T<:Number) where T<:Number at number.jl:6\n  convert(::Type{T<:Number}, !Matched::Number) where T<:Number at number.jl:7\n  ...",
      "",
      "Stacktrace:",
      " [1] setindex!(::Array{Float64,1}, ::Array{Float64,1}, ::Int64) at ./array.jl:766",
      " [2] DMH(::Array{Int64,2}, ::Int64, ::Int64, ::Float64, ::Float64, ::Int64) at ./In[295]:5",
      " [3] top-level scope at In[296]:1"
     ]
    }
   ],
   "source": [
    "DMH(teste1,2,100,0.2,0.25,1)"
   ]
  },
  {
   "cell_type": "code",
   "execution_count": 297,
   "metadata": {},
   "outputs": [
    {
     "ename": "MethodError",
     "evalue": "MethodError: Cannot `convert` an object of type Array{Int64,1} to an object of type Float64\nClosest candidates are:\n  convert(::Type{T<:AbstractFloat}, !Matched::Ratios.SimpleRatio{S}) where {T<:AbstractFloat, S} at /home/novais/.julia/packages/Ratios/iJ67w/src/Ratios.jl:16\n  convert(::Type{T<:Number}, !Matched::T<:Number) where T<:Number at number.jl:6\n  convert(::Type{T<:Number}, !Matched::Number) where T<:Number at number.jl:7\n  ...",
     "output_type": "error",
     "traceback": [
      "MethodError: Cannot `convert` an object of type Array{Int64,1} to an object of type Float64\nClosest candidates are:\n  convert(::Type{T<:AbstractFloat}, !Matched::Ratios.SimpleRatio{S}) where {T<:AbstractFloat, S} at /home/novais/.julia/packages/Ratios/iJ67w/src/Ratios.jl:16\n  convert(::Type{T<:Number}, !Matched::T<:Number) where T<:Number at number.jl:6\n  convert(::Type{T<:Number}, !Matched::Number) where T<:Number at number.jl:7\n  ...",
      "",
      "Stacktrace:",
      " [1] setindex!(::Array{Float64,1}, ::Array{Int64,1}, ::Int64) at ./array.jl:766",
      " [2] top-level scope at In[297]:2"
     ]
    }
   ],
   "source": [
    "x = zeros(3)\n",
    "x[1]=[0,1]\n",
    "x"
   ]
  },
  {
   "cell_type": "code",
   "execution_count": null,
   "metadata": {},
   "outputs": [],
   "source": []
  }
 ],
 "metadata": {
  "kernelspec": {
   "display_name": "Julia 1.2.0",
   "language": "julia",
   "name": "julia-1.2"
  },
  "language_info": {
   "file_extension": ".jl",
   "mimetype": "application/julia",
   "name": "julia",
   "version": "1.2.0"
  }
 },
 "nbformat": 4,
 "nbformat_minor": 2
}
